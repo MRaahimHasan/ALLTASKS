{
 "cells": [
  {
   "cell_type": "code",
   "execution_count": 24,
   "id": "f2e5fea3",
   "metadata": {},
   "outputs": [],
   "source": [
    "import pandas as pd"
   ]
  },
  {
   "cell_type": "code",
   "execution_count": 25,
   "id": "c524cbd4",
   "metadata": {},
   "outputs": [],
   "source": [
    "import matplotlib.pyplot as plt"
   ]
  },
  {
   "cell_type": "code",
   "execution_count": 15,
   "id": "eb55c577",
   "metadata": {},
   "outputs": [],
   "source": [
    "s=(\"a\")\n",
    "def shut_down():\n",
    "    if s==\"yes\":\n",
    "        print(\"Shutting Down\")\n",
    "    elif s==\"no\":\n",
    "        print(\"Shutdown Aborted\")\n",
    "    else:\n",
    "        print(\"Sorry\")"
   ]
  },
  {
   "cell_type": "code",
   "execution_count": 16,
   "id": "1222281d",
   "metadata": {},
   "outputs": [
    {
     "name": "stdout",
     "output_type": "stream",
     "text": [
      "Sorry\n"
     ]
    }
   ],
   "source": [
    "shut_down()"
   ]
  },
  {
   "cell_type": "code",
   "execution_count": null,
   "id": "1db0e850",
   "metadata": {},
   "outputs": [],
   "source": []
  },
  {
   "cell_type": "code",
   "execution_count": null,
   "id": "a18389e7",
   "metadata": {},
   "outputs": [],
   "source": []
  },
  {
   "cell_type": "code",
   "execution_count": null,
   "id": "99ce8a3a",
   "metadata": {},
   "outputs": [],
   "source": []
  },
  {
   "cell_type": "code",
   "execution_count": null,
   "id": "8c05e990",
   "metadata": {},
   "outputs": [],
   "source": []
  }
 ],
 "metadata": {
  "kernelspec": {
   "display_name": "Python 3 (ipykernel)",
   "language": "python",
   "name": "python3"
  },
  "language_info": {
   "codemirror_mode": {
    "name": "ipython",
    "version": 3
   },
   "file_extension": ".py",
   "mimetype": "text/x-python",
   "name": "python",
   "nbconvert_exporter": "python",
   "pygments_lexer": "ipython3",
   "version": "3.8.9"
  }
 },
 "nbformat": 4,
 "nbformat_minor": 5
}
